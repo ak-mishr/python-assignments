{
 "cells": [
  {
   "cell_type": "markdown",
   "id": "316bf55d",
   "metadata": {},
   "source": [
    "1. Write a Python program to print \"Hello Python\"?"
   ]
  },
  {
   "cell_type": "code",
   "execution_count": 1,
   "id": "2625bab7",
   "metadata": {},
   "outputs": [
    {
     "name": "stdout",
     "output_type": "stream",
     "text": [
      "Hello Python\n"
     ]
    }
   ],
   "source": [
    "print('Hello Python')"
   ]
  },
  {
   "cell_type": "markdown",
   "id": "850bde04",
   "metadata": {},
   "source": [
    "2. Write a Python program to do arithmetical operations addition and division.?"
   ]
  },
  {
   "cell_type": "code",
   "execution_count": 2,
   "id": "e5976908",
   "metadata": {},
   "outputs": [],
   "source": [
    "a = 1\n",
    "b = 2\n",
    "c = 3\n",
    "\n",
    "# Addition\n",
    "z = a+b\n",
    "# subtraction\n",
    "y = c-a\n",
    "# multiplication\n",
    "x = c*b\n",
    "#  Division\n",
    "w = a/c"
   ]
  },
  {
   "cell_type": "markdown",
   "id": "25265889",
   "metadata": {},
   "source": [
    "3. Write a Python program to find the area of a triangle?"
   ]
  },
  {
   "cell_type": "code",
   "execution_count": 4,
   "id": "b81fb3e6",
   "metadata": {},
   "outputs": [
    {
     "name": "stdout",
     "output_type": "stream",
     "text": [
      "enter the perpedicular of a triangle10\n",
      "enter the base of a triangle25\n",
      "Area of a triangle with perpendicular 10 and Base 25 = 125.0\n"
     ]
    }
   ],
   "source": [
    "per = int(input('enter the perpedicular of a triangle'))\n",
    "base = int(input('enter the base of a triangle'))\n",
    "\n",
    "#  area of a triangle = 1/2 * base * perpendicular\n",
    "area = 1/2 * base * per\n",
    "print(f'Area of a triangle with perpendicular {per} and Base {base} = {area}')"
   ]
  },
  {
   "cell_type": "markdown",
   "id": "ef96c19f",
   "metadata": {},
   "source": [
    "4. Write a Python program to swap two variables?"
   ]
  },
  {
   "cell_type": "code",
   "execution_count": 7,
   "id": "b6eb4a90",
   "metadata": {},
   "outputs": [
    {
     "name": "stdout",
     "output_type": "stream",
     "text": [
      "Kumar\n",
      "Ashutosh\n"
     ]
    }
   ],
   "source": [
    "var_1 = 'Ashutosh'\n",
    "var_2 = 'Kumar'\n",
    "#  variale swapping\n",
    "var_1, var_2 = var_2, var_1\n",
    "print(var_1)\n",
    "print(var_2)"
   ]
  },
  {
   "cell_type": "markdown",
   "id": "8d476df9",
   "metadata": {},
   "source": [
    "5. Write a Python program to generate a random number?"
   ]
  },
  {
   "cell_type": "code",
   "execution_count": 44,
   "id": "ad4c3349",
   "metadata": {},
   "outputs": [
    {
     "name": "stdout",
     "output_type": "stream",
     "text": [
      "93\n"
     ]
    }
   ],
   "source": [
    "import random\n",
    "print(random.randint(1,100))"
   ]
  }
 ],
 "metadata": {
  "kernelspec": {
   "display_name": "Python 3",
   "language": "python",
   "name": "python3"
  },
  "language_info": {
   "codemirror_mode": {
    "name": "ipython",
    "version": 3
   },
   "file_extension": ".py",
   "mimetype": "text/x-python",
   "name": "python",
   "nbconvert_exporter": "python",
   "pygments_lexer": "ipython3",
   "version": "3.8.8"
  }
 },
 "nbformat": 4,
 "nbformat_minor": 5
}
